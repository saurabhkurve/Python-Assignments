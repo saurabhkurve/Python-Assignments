{
 "cells": [
  {
   "cell_type": "code",
   "execution_count": 30,
   "metadata": {},
   "outputs": [
    {
     "name": "stdout",
     "output_type": "stream",
     "text": [
      "Enter Any Number :2\n",
      "2 is prime a number\n"
     ]
    }
   ],
   "source": [
    "n=int(input(\"Enter Any Number :\"))\n",
    "\n",
    "if n > 1:\n",
    "    for i in range(2,n):   #We can use any variable instead of each \n",
    "        if n%i==0:\n",
    "            print(f\"{n} is not prime a number\")\n",
    "            break\n",
    "    else:\n",
    "            print(f\"{n} is prime a number\")\n",
    "else:\n",
    "    print(f\"{n} is not a prime number\")\n",
    "    "
   ]
  },
  {
   "cell_type": "code",
   "execution_count": null,
   "metadata": {},
   "outputs": [],
   "source": []
  }
 ],
 "metadata": {
  "kernelspec": {
   "display_name": "Python 3",
   "language": "python",
   "name": "python3"
  },
  "language_info": {
   "codemirror_mode": {
    "name": "ipython",
    "version": 3
   },
   "file_extension": ".py",
   "mimetype": "text/x-python",
   "name": "python",
   "nbconvert_exporter": "python",
   "pygments_lexer": "ipython3",
   "version": "3.7.6"
  }
 },
 "nbformat": 4,
 "nbformat_minor": 4
}
