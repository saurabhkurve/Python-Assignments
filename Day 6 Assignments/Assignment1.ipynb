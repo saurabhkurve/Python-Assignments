{
 "cells": [
  {
   "cell_type": "code",
   "execution_count": 1,
   "metadata": {},
   "outputs": [
    {
     "name": "stdout",
     "output_type": "stream",
     "text": [
      "Resultant dictionary is : {1: 'a', 2: 'b', 3: 'c', 4: 'd', 5: 'e'}\n"
     ]
    }
   ],
   "source": [
    "list1 = [1,2,3,4,5,6,7] \n",
    "list2 = [\"a\",\"b\",\"c\",\"d\",\"e\"] \n",
    "\n",
    "len1 = min(len(list1), len(list2))\n",
    "res = {list1[i]: list2[i] for i in range(len1)} \n",
    "\n",
    "print (\"Resultant dictionary is : \" + str(res))"
   ]
  },
  {
   "cell_type": "code",
   "execution_count": null,
   "metadata": {},
   "outputs": [],
   "source": []
  }
 ],
 "metadata": {
  "kernelspec": {
   "display_name": "Python 3",
   "language": "python",
   "name": "python3"
  },
  "language_info": {
   "codemirror_mode": {
    "name": "ipython",
    "version": 3
   },
   "file_extension": ".py",
   "mimetype": "text/x-python",
   "name": "python",
   "nbconvert_exporter": "python",
   "pygments_lexer": "ipython3",
   "version": "3.7.6"
  }
 },
 "nbformat": 4,
 "nbformat_minor": 4
}
